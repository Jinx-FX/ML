{
 "cells": [
  {
   "cell_type": "code",
   "execution_count": 1,
   "metadata": {},
   "outputs": [],
   "source": [
    "import numpy as np"
   ]
  },
  {
   "cell_type": "code",
   "execution_count": 2,
   "metadata": {},
   "outputs": [],
   "source": [
    "stock_day_rise = np.random.normal(0, 1, (500, 504)) # 均值，标准差，（行，列）"
   ]
  },
  {
   "cell_type": "code",
   "execution_count": 4,
   "metadata": {},
   "outputs": [],
   "source": [
    "# 获取前四天的股票， 对前四天进行操作\n",
    "temp =stock_day_rise[:4, :4].copy()"
   ]
  },
  {
   "cell_type": "code",
   "execution_count": 5,
   "metadata": {},
   "outputs": [
    {
     "data": {
      "text/plain": [
       "array([[ 1.77792025, -0.20931722,  1.48062431, -0.13808363],\n",
       "       [ 1.55237353,  0.12838009,  1.31741929,  0.70861924],\n",
       "       [-0.09184806, -0.66893534,  1.49137578,  0.34925636],\n",
       "       [-0.23763893,  1.95774205, -2.24414644,  0.69611567]])"
      ]
     },
     "execution_count": 5,
     "metadata": {},
     "output_type": "execute_result"
    }
   ],
   "source": [
    "temp"
   ]
  },
  {
   "cell_type": "code",
   "execution_count": 10,
   "metadata": {},
   "outputs": [
    {
     "name": "stdout",
     "output_type": "stream",
     "text": [
      "[1.77792025 1.55237353 1.49137578 1.95774205]\n",
      "[-0.20931722  0.12838009 -0.66893534 -2.24414644]\n",
      "[0.90794275 0.554302   0.79223954 1.5331825 ]\n",
      "[0.82436003 0.30725071 0.62764349 2.35064857]\n",
      "[0.72778593 0.92669804 0.26996219 0.04301809]\n"
     ]
    }
   ],
   "source": [
    "print(np.max(temp, axis=1)) #每行的最大值,axis=0为列\n",
    "print(np.min(temp, axis=1)) #每行的最小值\n",
    "print(np.std(temp, axis=1)) #每行的标准差\n",
    "print(np.var(temp, axis=1)) #每行的方差\n",
    "print(np.mean(temp, axis=1)) #每行的均值"
   ]
  },
  {
   "cell_type": "code",
   "execution_count": 11,
   "metadata": {},
   "outputs": [
    {
     "name": "stdout",
     "output_type": "stream",
     "text": [
      "[0 0 2 1]\n"
     ]
    }
   ],
   "source": [
    "# 得到相应位置\n",
    "print(np.argmax(temp, axis=1)) #每行的最大值位置,axis=0为列"
   ]
  }
 ],
 "metadata": {
  "interpreter": {
   "hash": "c2dcf07f34e4bb365b7d518833fb189d33df0b30a0dfeb04995cb80731c844c1"
  },
  "kernelspec": {
   "display_name": "Python 3.8.5 64-bit ('base': conda)",
   "language": "python",
   "name": "python3"
  },
  "language_info": {
   "codemirror_mode": {
    "name": "ipython",
    "version": 3
   },
   "file_extension": ".py",
   "mimetype": "text/x-python",
   "name": "python",
   "nbconvert_exporter": "python",
   "pygments_lexer": "ipython3",
   "version": "3.8.5"
  },
  "orig_nbformat": 4
 },
 "nbformat": 4,
 "nbformat_minor": 2
}
